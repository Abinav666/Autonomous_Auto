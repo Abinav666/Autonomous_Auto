{
 "cells": [
  {
   "cell_type": "code",
   "execution_count": 1,
   "metadata": {},
   "outputs": [],
   "source": [
    "# Importing the libraries\n",
    "import numpy as np\n",
    "import pandas as pd\n",
    "import matplotlib.pyplot as plt\n",
    "from sklearn.utils import shuffle"
   ]
  },
  {
   "cell_type": "code",
   "execution_count": 7,
   "metadata": {},
   "outputs": [
    {
     "data": {
      "text/html": [
       "<div>\n",
       "<style scoped>\n",
       "    .dataframe tbody tr th:only-of-type {\n",
       "        vertical-align: middle;\n",
       "    }\n",
       "\n",
       "    .dataframe tbody tr th {\n",
       "        vertical-align: top;\n",
       "    }\n",
       "\n",
       "    .dataframe thead th {\n",
       "        text-align: right;\n",
       "    }\n",
       "</style>\n",
       "<table border=\"1\" class=\"dataframe\">\n",
       "  <thead>\n",
       "    <tr style=\"text-align: right;\">\n",
       "      <th></th>\n",
       "      <th>Center</th>\n",
       "      <th>Left</th>\n",
       "      <th>Right</th>\n",
       "      <th>Steering</th>\n",
       "      <th>Throttle</th>\n",
       "      <th>Break</th>\n",
       "      <th>Speed</th>\n",
       "    </tr>\n",
       "  </thead>\n",
       "  <tbody>\n",
       "    <tr>\n",
       "      <th>0</th>\n",
       "      <td>C:\\Users\\abhinav.m\\Desktop\\IMG\\center_2021_04_...</td>\n",
       "      <td>C:\\Users\\abhinav.m\\Desktop\\IMG\\left_2021_04_2...</td>\n",
       "      <td>C:\\Users\\abhinav.m\\Desktop\\IMG\\right_2021_04_...</td>\n",
       "      <td>0.0</td>\n",
       "      <td>0.0</td>\n",
       "      <td>0.0</td>\n",
       "      <td>0.000079</td>\n",
       "    </tr>\n",
       "    <tr>\n",
       "      <th>1</th>\n",
       "      <td>C:\\Users\\abhinav.m\\Desktop\\IMG\\center_2021_04_...</td>\n",
       "      <td>C:\\Users\\abhinav.m\\Desktop\\IMG\\left_2021_04_2...</td>\n",
       "      <td>C:\\Users\\abhinav.m\\Desktop\\IMG\\right_2021_04_...</td>\n",
       "      <td>0.0</td>\n",
       "      <td>0.0</td>\n",
       "      <td>0.0</td>\n",
       "      <td>0.000080</td>\n",
       "    </tr>\n",
       "    <tr>\n",
       "      <th>2</th>\n",
       "      <td>C:\\Users\\abhinav.m\\Desktop\\IMG\\center_2021_04_...</td>\n",
       "      <td>C:\\Users\\abhinav.m\\Desktop\\IMG\\left_2021_04_2...</td>\n",
       "      <td>C:\\Users\\abhinav.m\\Desktop\\IMG\\right_2021_04_...</td>\n",
       "      <td>0.0</td>\n",
       "      <td>0.0</td>\n",
       "      <td>0.0</td>\n",
       "      <td>0.000079</td>\n",
       "    </tr>\n",
       "    <tr>\n",
       "      <th>3</th>\n",
       "      <td>C:\\Users\\abhinav.m\\Desktop\\IMG\\center_2021_04_...</td>\n",
       "      <td>C:\\Users\\abhinav.m\\Desktop\\IMG\\left_2021_04_2...</td>\n",
       "      <td>C:\\Users\\abhinav.m\\Desktop\\IMG\\right_2021_04_...</td>\n",
       "      <td>0.0</td>\n",
       "      <td>0.0</td>\n",
       "      <td>0.0</td>\n",
       "      <td>0.000078</td>\n",
       "    </tr>\n",
       "    <tr>\n",
       "      <th>4</th>\n",
       "      <td>C:\\Users\\abhinav.m\\Desktop\\IMG\\center_2021_04_...</td>\n",
       "      <td>C:\\Users\\abhinav.m\\Desktop\\IMG\\left_2021_04_2...</td>\n",
       "      <td>C:\\Users\\abhinav.m\\Desktop\\IMG\\right_2021_04_...</td>\n",
       "      <td>0.0</td>\n",
       "      <td>0.0</td>\n",
       "      <td>0.0</td>\n",
       "      <td>0.000079</td>\n",
       "    </tr>\n",
       "  </tbody>\n",
       "</table>\n",
       "</div>"
      ],
      "text/plain": [
       "                                              Center  \\\n",
       "0  C:\\Users\\abhinav.m\\Desktop\\IMG\\center_2021_04_...   \n",
       "1  C:\\Users\\abhinav.m\\Desktop\\IMG\\center_2021_04_...   \n",
       "2  C:\\Users\\abhinav.m\\Desktop\\IMG\\center_2021_04_...   \n",
       "3  C:\\Users\\abhinav.m\\Desktop\\IMG\\center_2021_04_...   \n",
       "4  C:\\Users\\abhinav.m\\Desktop\\IMG\\center_2021_04_...   \n",
       "\n",
       "                                                Left  \\\n",
       "0   C:\\Users\\abhinav.m\\Desktop\\IMG\\left_2021_04_2...   \n",
       "1   C:\\Users\\abhinav.m\\Desktop\\IMG\\left_2021_04_2...   \n",
       "2   C:\\Users\\abhinav.m\\Desktop\\IMG\\left_2021_04_2...   \n",
       "3   C:\\Users\\abhinav.m\\Desktop\\IMG\\left_2021_04_2...   \n",
       "4   C:\\Users\\abhinav.m\\Desktop\\IMG\\left_2021_04_2...   \n",
       "\n",
       "                                               Right  Steering  Throttle  \\\n",
       "0   C:\\Users\\abhinav.m\\Desktop\\IMG\\right_2021_04_...       0.0       0.0   \n",
       "1   C:\\Users\\abhinav.m\\Desktop\\IMG\\right_2021_04_...       0.0       0.0   \n",
       "2   C:\\Users\\abhinav.m\\Desktop\\IMG\\right_2021_04_...       0.0       0.0   \n",
       "3   C:\\Users\\abhinav.m\\Desktop\\IMG\\right_2021_04_...       0.0       0.0   \n",
       "4   C:\\Users\\abhinav.m\\Desktop\\IMG\\right_2021_04_...       0.0       0.0   \n",
       "\n",
       "   Break     Speed  \n",
       "0    0.0  0.000079  \n",
       "1    0.0  0.000080  \n",
       "2    0.0  0.000079  \n",
       "3    0.0  0.000078  \n",
       "4    0.0  0.000079  "
      ]
     },
     "execution_count": 7,
     "metadata": {},
     "output_type": "execute_result"
    }
   ],
   "source": [
    "names=['Center','Left','Right','Steering','Throttle','Break','Speed']       #Defining the Labels\n",
    "df=pd.read_csv('driving_log.csv',names=names)                               #Reading the CSV file\n",
    "df.head()                                                                   #Displaying the Dataframe"
   ]
  },
  {
   "cell_type": "code",
   "execution_count": 13,
   "metadata": {},
   "outputs": [],
   "source": [
    "# Here, we make use of only the center img (Attribute) and the steering angle value(Label).\n",
    "# Note that we are not taking the right and left images, to make the problem more simpler!\n",
    "Steering=df['Steering'].values\n",
    "img=df['Center'].values"
   ]
  },
  {
   "cell_type": "code",
   "execution_count": 15,
   "metadata": {},
   "outputs": [
    {
     "name": "stdout",
     "output_type": "stream",
     "text": [
      "zero = 4004 , positive value = 530 , Negative value = 532 \n"
     ]
    }
   ],
   "source": [
    "# Here we are just checking how many values are Positive, Negative and Zero.\n",
    "pos=0\n",
    "neg=0\n",
    "zero=0\n",
    "for i in Steering:\n",
    "    if i>0:\n",
    "        pos+=1;\n",
    "    elif i<0:\n",
    "        neg+=1\n",
    "    else:\n",
    "        zero+=1\n",
    "print('zero = {} , positive value = {} , Negative value = {} '.format(zero,pos,neg))"
   ]
  },
  {
   "cell_type": "code",
   "execution_count": 34,
   "metadata": {},
   "outputs": [
    {
     "name": "stdout",
     "output_type": "stream",
     "text": [
      "[-0.96 -0.88 -0.8  -0.72 -0.64 -0.56 -0.48 -0.4  -0.32 -0.24 -0.16 -0.08\n",
      "  0.    0.08  0.16  0.24  0.32  0.4   0.48  0.56  0.64  0.72  0.8   0.88\n",
      "  0.96]\n"
     ]
    },
    {
     "data": {
      "text/plain": [
       "<BarContainer object of 25 artists>"
      ]
     },
     "execution_count": 34,
     "metadata": {},
     "output_type": "execute_result"
    },
    {
     "data": {
      "image/png": "[encoded data removed]",
      "text/plain": [
       "<Figure size 432x288 with 1 Axes>"
      ]
     },
     "metadata": {
      "needs_background": "light"
     },
     "output_type": "display_data"
    }
   ],
   "source": [
    "# Now lets plot the steering values as a histogram\n",
    "hist,bins=np.histogram(Steering,25)\n",
    "# now, i want to make the 0 steering value come in the center.\n",
    "center=(bins[1:]+bins[:-1])/2.0\n",
    "print(center)\n",
    "plt.bar(center,hist,width=0.1)"
   ]
  },
  {
   "cell_type": "code",
   "execution_count": 57,
   "metadata": {},
   "outputs": [],
   "source": [
    "# From the above graph, we come to know that the 0 stering values are much heigher than the other steering values. This will make the model biased.\n",
    "# So, I plan on removing some values of the 0 steering value. I'll keep only around 500-1000 0 steering values.\n",
    "data=df.values\n",
    "count=0\n",
    "new_data=[]\n",
    "data=shuffle(data)\n",
    "for i in range(len(data)):\n",
    "    if data[i][3]==0:\n",
    "        if count!=500:\n",
    "            count+=1\n",
    "            new_data.append(data[i])\n",
    "        else:\n",
    "            break"
   ]
  },
  {
   "cell_type": "code",
   "execution_count": 58,
   "metadata": {},
   "outputs": [
    {
     "data": {
      "text/plain": [
       "1562"
      ]
     },
     "execution_count": 58,
     "metadata": {},
     "output_type": "execute_result"
    }
   ],
   "source": [
    "# Now we have the 'new_data' as the array with all zero steering angle\n",
    "# Let's now append the non zero steering data into the new_data array\n",
    "for i in range(len(data)):\n",
    "    if data[i][3]!=0:\n",
    "        new_data.append(data[i])\n",
    "len(new_data)"
   ]
  },
  {
   "cell_type": "code",
   "execution_count": 64,
   "metadata": {},
   "outputs": [
    {
     "name": "stdout",
     "output_type": "stream",
     "text": [
      "[-0.96 -0.88 -0.8  -0.72 -0.64 -0.56 -0.48 -0.4  -0.32 -0.24 -0.16 -0.08\n",
      "  0.    0.08  0.16  0.24  0.32  0.4   0.48  0.56  0.64  0.72  0.8   0.88\n",
      "  0.96] [ 32   7  19  18  61  19  58  36 153  15  47  30 578  32  23  16 186  44\n",
      "  35  14  59  31  13   9  27]\n"
     ]
    },
    {
     "data": {
      "text/plain": [
       "<BarContainer object of 25 artists>"
      ]
     },
     "execution_count": 64,
     "metadata": {},
     "output_type": "execute_result"
    },
    {
     "data": {
      "image/png": "[encoded data removed]",
      "text/plain": [
       "<Figure size 432x288 with 1 Axes>"
      ]
     },
     "metadata": {
      "needs_background": "light"
     },
     "output_type": "display_data"
    }
   ],
   "source": [
    "# Now lets plot the new gaph!\n",
    "steering=[]\n",
    "for i in new_data:\n",
    "    steering.append(i[3])\n",
    "hist,bins=np.histogram(steering,25)\n",
    "center=(bins[1:]+bins[:-1])/2.0\n",
    "print(center,hist)\n",
    "plt.bar(center,hist,width=0.1)"
   ]
  },
  {
   "cell_type": "code",
   "execution_count": 66,
   "metadata": {},
   "outputs": [],
   "source": [
    "# Lets save the 'new_data' file, so that we can use only that for further processing.\n",
    "new_data=np.array(new_data)\n",
    "new_data=pd.DataFrame(new_data)\n",
    "new_data.to_csv('Processed_Data.csv')\n",
    "# Note that the data is saved as a csv file.\n",
    "# The program is continued in 'Processing.ipynb'\n",
    "# Have a good day!"
   ]
  }
 ],
 "metadata": {
  "kernelspec": {
   "display_name": "Python 3",
   "language": "python",
   "name": "python3"
  },
  "language_info": {
   "codemirror_mode": {
    "name": "ipython",
    "version": 3
   },
   "file_extension": ".py",
   "mimetype": "text/x-python",
   "name": "python",
   "nbconvert_exporter": "python",
   "pygments_lexer": "ipython3",
   "version": "3.8.5"
  }
 },
 "nbformat": 4,
 "nbformat_minor": 4
}
