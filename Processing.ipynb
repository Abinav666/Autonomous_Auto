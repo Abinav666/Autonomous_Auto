{
 "cells": [
  {
   "cell_type": "code",
   "execution_count": 1,
   "metadata": {},
   "outputs": [],
   "source": [
    "# Importing the libraries\n",
    "import pandas as pd\n",
    "import numpy as np\n",
    "from sklearn.model_selection import train_test_split\n",
    "import cv2 as cv\n",
    "import matplotlib.pyplot as plt"
   ]
  },
  {
   "cell_type": "code",
   "execution_count": 1,
   "metadata": {},
   "outputs": [
    {
     "ename": "ModuleNotFoundError",
     "evalue": "No module named 'tensorflow'",
     "output_type": "error",
     "traceback": [
      "\u001b[1;31m---------------------------------------------------------------------------\u001b[0m",
      "\u001b[1;31mModuleNotFoundError\u001b[0m                       Traceback (most recent call last)",
      "\u001b[1;32m<ipython-input-1-60140029de35>\u001b[0m in \u001b[0;36m<module>\u001b[1;34m\u001b[0m\n\u001b[1;32m----> 1\u001b[1;33m \u001b[1;32mimport\u001b[0m \u001b[0mtensorflow\u001b[0m\u001b[1;33m.\u001b[0m\u001b[0mkeras\u001b[0m\u001b[1;33m\u001b[0m\u001b[1;33m\u001b[0m\u001b[0m\n\u001b[0m",
      "\u001b[1;31mModuleNotFoundError\u001b[0m: No module named 'tensorflow'"
     ]
    }
   ],
   "source": [
    "import tensorflow.keras"
   ]
  },
  {
   "cell_type": "code",
   "execution_count": 2,
   "metadata": {},
   "outputs": [],
   "source": [
    "# Reading the csv file and converting it into an array\n",
    "data=pd.read_csv('Processed_Data.csv')\n",
    "data=data.drop('Unnamed: 0',axis=1)\n",
    "data=data.values"
   ]
  },
  {
   "cell_type": "code",
   "execution_count": 3,
   "metadata": {},
   "outputs": [],
   "source": [
    "\"IMG/\" + data[0][0].split('\\\\')[-1]\n",
    "img=[]\n",
    "steering=[]\n",
    "for i in range(len(data)):\n",
    "    img.append(\"IMG/\" + data[i][0].split('\\\\')[-1])\n",
    "    steering.append(data[i][3])"
   ]
  },
  {
   "cell_type": "code",
   "execution_count": 4,
   "metadata": {},
   "outputs": [
    {
     "name": "stdout",
     "output_type": "stream",
     "text": [
      "1562 1562\n"
     ]
    }
   ],
   "source": [
    "print(len(img),len(steering))"
   ]
  },
  {
   "cell_type": "code",
   "execution_count": 5,
   "metadata": {},
   "outputs": [],
   "source": [
    "img=np.array(img)\n",
    "steering=np.array(steering)"
   ]
  },
  {
   "cell_type": "code",
   "execution_count": 6,
   "metadata": {},
   "outputs": [],
   "source": [
    "def crop(image):    \n",
    "    cropped=image[60:135,:,:]\n",
    "    return cropped\n",
    "\n",
    "def bgrtoyuv(cropped):\n",
    "    yuv=cv.cvtColor(cropped,cv.COLOR_BGR2YUV)\n",
    "    return yuv"
   ]
  },
  {
   "cell_type": "code",
   "execution_count": 7,
   "metadata": {},
   "outputs": [],
   "source": [
    "def batch_generator(img,steering,batch_size):\n",
    "    while True:\n",
    "        X=[]\n",
    "        y=[]\n",
    "        for i in range(batch_size):\n",
    "            \n",
    "            # For taking random image from the set of image\n",
    "            index=np.random.randint(0,len(img)-1)\n",
    "            image=cv.imread(img[index])\n",
    "            \n",
    "            # Making use of the above used image,to crop and convert the image to YUV format\n",
    "            cropped=crop(image)\n",
    "            image=bgrtoyuv(cropped)\n",
    "            \n",
    "            # To increase and decrease the brightness of the img\n",
    "            if np.random.rand()>0.5:\n",
    "                divider=np.random.randint(1,4)\n",
    "                image=image/divider\n",
    "                \n",
    "            # Flip the image\n",
    "            if np.random.rand()>0.5:\n",
    "                image=cv.flip(image,1)\n",
    "                plt.imshow(flip_image)\n",
    "                \n",
    "            # The flipped image will have a negative steering angle to the onler one.\n",
    "                steering_angle=-steering[index]\n",
    "            else:\n",
    "                steering_angle=steering[index]\n",
    "            X.append(image)\n",
    "            y.append(steering_angle)\n",
    "        X=np.array(X)\n",
    "        y=np.array(y)\n",
    "        yield X,y"
   ]
  },
  {
   "cell_type": "code",
   "execution_count": null,
   "metadata": {},
   "outputs": [],
   "source": []
  }
 ],
 "metadata": {
  "kernelspec": {
   "display_name": "Python 3",
   "language": "python",
   "name": "python3"
  },
  "language_info": {
   "codemirror_mode": {
    "name": "ipython",
    "version": 3
   },
   "file_extension": ".py",
   "mimetype": "text/x-python",
   "name": "python",
   "nbconvert_exporter": "python",
   "pygments_lexer": "ipython3",
   "version": "3.8.5"
  }
 },
 "nbformat": 4,
 "nbformat_minor": 4
}
